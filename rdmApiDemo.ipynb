{
 "cells": [
  {
   "cell_type": "markdown",
   "metadata": {},
   "source": [
    "# Usage Of Reference Data Module \n",
    "This notebook demonstrates the usage of Worldcereal Reference data module data APIs\n",
    "\n",
    "The project website: https://esa-worldcereal.org/en\n",
    "The Worlcereal Reference data module website: https://rdm.cloud.esa-worldcereal.org/\n",
    "The complete documentation of data APIs can be found as swagger publish here - https://rdmapi.cloud.esa-worldcereal.org/swagger/index.html\n",
    "\n",
    "The APIs are gaurded by authentication server, so all the REST calls require login. In this notebook demo user 'demo_rdm' is used to fetch the authentication token. Users are requested to get their own login by sending mail to moderator-worldcereal@iiasa.ac.at. \n",
    "Once you have your credentials ready replace in the below code for fetching authentication tokens.\n",
    "\n",
    "After you get the Authentication token you can all any api in the above url using the headers as shown in below calls."
   ]
  },
  {
   "cell_type": "markdown",
   "metadata": {},
   "source": [
    "# *Get Authorization Token for the API*"
   ]
  },
  {
   "cell_type": "code",
   "execution_count": null,
   "metadata": {},
   "outputs": [],
   "source": [
    "import requests\n",
    "\n",
    "##################Declarations#############################\n",
    "authBaseUrl = 'https://auth.cloud.esa-worldcereal.org'\n",
    "apiUrl = 'https://rdmapi.cloud.esa-worldcereal.org/data'\n",
    "\n",
    "data = {\n",
    "    'username': 'demo_rdm', #demo credentials used here, use your login\n",
    "    'password': 'rdmlpsdemo2022', #demo credentials used here, use your password\n",
    "    'client_id': 'auth',\n",
    "    'grant_type': 'password',\n",
    "}\n",
    "############################################################\n",
    "\n",
    "tokenResponse = requests.post(f'{authBaseUrl}/realms/worldcereal/protocol/openid-connect/token', data=data)\n",
    "\n",
    "token = tokenResponse.json()\n",
    "\n",
    "token"
   ]
  },
  {
   "cell_type": "markdown",
   "metadata": {},
   "source": [
    "# Form Authentication Headers\n",
    "This is required by all the REST calls in this notebook"
   ]
  },
  {
   "cell_type": "code",
   "execution_count": null,
   "metadata": {},
   "outputs": [],
   "source": [
    "\n",
    "tokentype = token['token_type']\n",
    "accessToken = token['access_token']\n",
    "headers = {\n",
    "    'Authorization': f'{tokentype} {accessToken}',\n",
    "}\n",
    "\n",
    "headers"
   ]
  },
  {
   "cell_type": "markdown",
   "metadata": {},
   "source": [
    "# Get All Public Collections"
   ]
  },
  {
   "cell_type": "code",
   "execution_count": 10,
   "metadata": {},
   "outputs": [
    {
     "data": {
      "text/plain": [
       "{'totalCount': 91,\n",
       " 'items': [{'collectionId': '2016afoafpoint110',\n",
       "   'title': 'MEL agronomic survey eastern Africa, 2016',\n",
       "   'featureCount': 3780,\n",
       "   'type': 'Point',\n",
       "   'accessType': 'Public',\n",
       "   'typeOfObservationMethod': 'FieldObservationSurvey',\n",
       "   'confidenceLandCover': 89.2,\n",
       "   'confidenceCropType': 85.7,\n",
       "   'confidenceIrrigationType': 0,\n",
       "   'landCovers': [11, 10],\n",
       "   'cropTypes': [9998, 1200, 7100, 5100],\n",
       "   'irrTypes': [0],\n",
       "   'extent': {'spatial': {'bbox': [[28.892598210208625,\n",
       "       -2.668523159304346,\n",
       "       35.392040089688045,\n",
       "       1.0134526537095285]],\n",
       "     'crs': 'http://www.opengis.net/def/crs/OGC/1.3/CRS84'},\n",
       "    'temporal': {'interval': [['2016-05-01T00:00:00', '2016-08-01T00:00:00']],\n",
       "     'trs': 'http://www.opengis.net/def/uom/ISO-8601/0/Gregorian'}},\n",
       "   'additionalData': None,\n",
       "   'crs': ['http://www.opengis.net/def/crs/EPSG/0/4326'],\n",
       "   'lastModificationTime': None,\n",
       "   'lastModifierId': None,\n",
       "   'creationTime': '2022-10-28T09:58:22.464379',\n",
       "   'creatorId': None,\n",
       "   'id': '3a073034-174e-03d6-973e-f77e7b989f04'},\n",
       "  {'collectionId': '2016asremelgadopoly111',\n",
       "   'title': 'A crop type dataset on Central Asia, 2016 (Remelgado et al, 2020)',\n",
       "   'featureCount': 5214,\n",
       "   'type': 'Polygon',\n",
       "   'accessType': 'Public',\n",
       "   'typeOfObservationMethod': 'FieldObservationSurvey',\n",
       "   'confidenceLandCover': 98,\n",
       "   'confidenceCropType': 98,\n",
       "   'confidenceIrrigationType': 98,\n",
       "   'landCovers': [11, 12, 10],\n",
       "   'cropTypes': [0,\n",
       "    1300,\n",
       "    1200,\n",
       "    9211,\n",
       "    1110,\n",
       "    3000,\n",
       "    2000,\n",
       "    7920,\n",
       "    3300,\n",
       "    2200,\n",
       "    7100,\n",
       "    2230,\n",
       "    2340,\n",
       "    1700,\n",
       "    5100,\n",
       "    2260,\n",
       "    4380],\n",
       "   'irrTypes': [200, 0],\n",
       "   'extent': {'spatial': {'bbox': [[64.17618005371591,\n",
       "       37.42410181284845,\n",
       "       72.35394193117526,\n",
       "       41.18035606767841]],\n",
       "     'crs': 'http://www.opengis.net/def/crs/OGC/1.3/CRS84'},\n",
       "    'temporal': {'interval': [['2016-04-01T00:00:00', '2018-09-01T00:00:00']],\n",
       "     'trs': 'http://www.opengis.net/def/uom/ISO-8601/0/Gregorian'}},\n",
       "   'additionalData': None,\n",
       "   'crs': ['http://www.opengis.net/def/crs/EPSG/0/4326'],\n",
       "   'lastModificationTime': None,\n",
       "   'lastModifierId': None,\n",
       "   'creationTime': '2022-10-28T11:48:09.87743',\n",
       "   'creatorId': None,\n",
       "   'id': '3a073098-9c13-0ea6-1c0d-9c9b53694807'}]}"
      ]
     },
     "execution_count": 10,
     "metadata": {},
     "output_type": "execute_result"
    }
   ],
   "source": [
    "collectionResponse = requests.get(f'{apiUrl}/collections', headers=headers)\n",
    "collectionResponse.json()"
   ]
  },
  {
   "cell_type": "markdown",
   "metadata": {},
   "source": [
    "# Get Features from a given collection"
   ]
  },
  {
   "cell_type": "code",
   "execution_count": 11,
   "metadata": {},
   "outputs": [
    {
     "data": {
      "text/plain": [
       "{'type': 'FeatureCollection',\n",
       " 'features': [{'type': 'Feature',\n",
       "   'geometry': {'type': 'Point',\n",
       "    'coordinates': [34.91318221967114, 0.9785382997435746]},\n",
       "   'properties': {'sampleID': '2016_AF_OAF_POINT_110582',\n",
       "    'LC': 11,\n",
       "    'CT': 9998,\n",
       "    'IRR': 0,\n",
       "    'valtime': '2016-08-01',\n",
       "    'split': 'CAL'}},\n",
       "  {'type': 'Feature',\n",
       "   'geometry': {'type': 'Point',\n",
       "    'coordinates': [34.91223667015719, 0.9790161786911649]},\n",
       "   'properties': {'sampleID': '2016_AF_OAF_POINT_110586',\n",
       "    'LC': 11,\n",
       "    'CT': 9998,\n",
       "    'IRR': 0,\n",
       "    'valtime': '2016-08-01',\n",
       "    'split': 'CAL'}}],\n",
       " 'NumberMatched': 3780,\n",
       " 'NumberReturned': 2,\n",
       " 'UtcTimeStamp': '2022-11-14 13:05:38Z',\n",
       " 'SkipCount': 0}"
      ]
     },
     "execution_count": 11,
     "metadata": {},
     "output_type": "execute_result"
    }
   ],
   "source": [
    "collectionId = collectionResponse.json()['items'][0]['collectionId']\n",
    "\n",
    "itemUrl = f'{apiUrl}/collections/{collectionId}/items'\n",
    "\n",
    "itemsResponse = requests.get(itemUrl, headers=headers)\n",
    "itemsResponse.json()"
   ]
  }
 ],
 "metadata": {
  "kernelspec": {
   "display_name": "Python 3.10.8 64-bit (microsoft store)",
   "language": "python",
   "name": "python3"
  },
  "language_info": {
   "codemirror_mode": {
    "name": "ipython",
    "version": 3
   },
   "file_extension": ".py",
   "mimetype": "text/x-python",
   "name": "python",
   "nbconvert_exporter": "python",
   "pygments_lexer": "ipython3",
   "version": "3.10.8"
  },
  "orig_nbformat": 4,
  "vscode": {
   "interpreter": {
    "hash": "e392a9b769d7057ada939629be2320982e0f6b6b7965143c663157410beabc0b"
   }
  }
 },
 "nbformat": 4,
 "nbformat_minor": 2
}
