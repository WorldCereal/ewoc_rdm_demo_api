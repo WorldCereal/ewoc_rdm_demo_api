{
 "cells": [
  {
   "cell_type": "markdown",
   "metadata": {},
   "source": [
    "#Get Authorization Token for the API"
   ]
  },
  {
   "cell_type": "code",
   "execution_count": null,
   "metadata": {},
   "outputs": [],
   "source": [
    "import requests\n",
    "\n",
    "baseUrl = 'https://auth.cloud.esa-worldcereal.org'\n",
    "\n",
    "data = {\n",
    "    'username': 'demo_rdm',\n",
    "    'password': 'rdmlpsdemo2022',\n",
    "    'client_id': 'auth',\n",
    "    'grant_type': 'password',\n",
    "}\n",
    "\n",
    "tokenResponse = requests.post(f'{baseUrl}/realms/worldcereal/protocol/openid-connect/token', data=data)\n",
    "\n",
    "token = tokenResponse.json()\n",
    "\n",
    "token"
   ]
  },
  {
   "cell_type": "markdown",
   "metadata": {},
   "source": [
    "#Form Authentication Headers"
   ]
  },
  {
   "cell_type": "code",
   "execution_count": null,
   "metadata": {},
   "outputs": [],
   "source": [
    "apiUrl = 'https://rdmapi.cloud.esa-worldcereal.org/data'\n",
    "bearer = token['token_type']\n",
    "accessToken = token['access_token']\n",
    "headers = {\n",
    "    'Authorization': f'{bearer} {accessToken}',\n",
    "}\n",
    "\n",
    "headers"
   ]
  },
  {
   "cell_type": "markdown",
   "metadata": {},
   "source": [
    "#Get All Public Collections"
   ]
  },
  {
   "cell_type": "code",
   "execution_count": null,
   "metadata": {},
   "outputs": [],
   "source": [
    "collectionResponse = requests.get(f'{apiUrl}/collections', headers=headers)\n",
    "collectionResponse.json()"
   ]
  },
  {
   "cell_type": "markdown",
   "metadata": {},
   "source": [
    "#Get Features from collection"
   ]
  },
  {
   "cell_type": "code",
   "execution_count": null,
   "metadata": {},
   "outputs": [],
   "source": [
    "collectionId = collectionResponse.json()['items'][0]['collectionId']\n",
    "\n",
    "itemUrl = f'{apiUrl}/collections/{collectionId}/items'\n",
    "\n",
    "itemsResponse = requests.get(itemUrl, headers=headers)\n",
    "itemsResponse.json()"
   ]
  }
 ],
 "metadata": {
  "kernelspec": {
   "display_name": "Python 3.10.8 64-bit (microsoft store)",
   "language": "python",
   "name": "python3"
  },
  "language_info": {
   "codemirror_mode": {
    "name": "ipython",
    "version": 3
   },
   "file_extension": ".py",
   "mimetype": "text/x-python",
   "name": "python",
   "nbconvert_exporter": "python",
   "pygments_lexer": "ipython3",
   "version": "3.10.8"
  },
  "orig_nbformat": 4,
  "vscode": {
   "interpreter": {
    "hash": "e392a9b769d7057ada939629be2320982e0f6b6b7965143c663157410beabc0b"
   }
  }
 },
 "nbformat": 4,
 "nbformat_minor": 2
}
