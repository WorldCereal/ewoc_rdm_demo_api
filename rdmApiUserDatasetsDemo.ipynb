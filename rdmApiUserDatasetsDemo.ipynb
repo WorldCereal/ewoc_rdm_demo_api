{
 "cells": [
  {
   "cell_type": "code",
   "execution_count": null,
   "metadata": {},
   "outputs": [],
   "source": [
    "##################Declarations#############################\n",
    "import requests\n",
    "import random\n",
    "\n",
    "authBaseUrl = 'https://sso.terrascope.be/auth/realms/terrascope'\n",
    "apiUrl = 'https://ewoc-rdm-api.iiasa.ac.at'\n",
    "\n"
   ]
  },
  {
   "cell_type": "markdown",
   "metadata": {},
   "source": [
    "# Get Token"
   ]
  },
  {
   "cell_type": "code",
   "execution_count": null,
   "metadata": {},
   "outputs": [],
   "source": [
    "data= {\n",
    "    'username': '<fill your user name>',  # terrascope user name\n",
    "    'password': '<fill your password>',   # terrascope user password\n",
    "    'client_id': 'worldcereal-rdm',\n",
    "    'grant_type': 'password',\n",
    "}\n",
    "\n",
    "# call terrascope auth server to get token\n",
    "tokenResponse = requests.post(f'{authBaseUrl}/protocol/openid-connect/token', data=data)\n",
    "\n",
    "token = tokenResponse.json()\n",
    "tokentype = token['token_type']\n",
    "accessToken = token['access_token']\n",
    "headers = {'Authorization': f'{tokentype} {accessToken}'}\n",
    "\n",
    "print('headers',  headers)\n"
   ]
  },
  {
   "cell_type": "markdown",
   "metadata": {},
   "source": [
    "# Get User datasets"
   ]
  },
  {
   "cell_type": "code",
   "execution_count": null,
   "metadata": {},
   "outputs": [],
   "source": [
    "userDatasets = requests.get(f'{apiUrl}/userdatasets', headers=headers)\n",
    "userDatasets.json()"
   ]
  },
  {
   "cell_type": "markdown",
   "metadata": {},
   "source": [
    "# Get Collection with login (includes user datasets)"
   ]
  },
  {
   "cell_type": "code",
   "execution_count": null,
   "metadata": {},
   "outputs": [],
   "source": [
    "collectionResponse = requests.get(f'{apiUrl}/collections', headers=headers)\n",
    "collectionResponse.json()"
   ]
  }
 ],
 "metadata": {
  "kernelspec": {
   "display_name": "Python 3",
   "language": "python",
   "name": "python3"
  },
  "language_info": {
   "codemirror_mode": {
    "name": "ipython",
    "version": 3
   },
   "file_extension": ".py",
   "mimetype": "text/x-python",
   "name": "python",
   "nbconvert_exporter": "python",
   "pygments_lexer": "ipython3",
   "version": "3.12.3"
  }
 },
 "nbformat": 4,
 "nbformat_minor": 2
}
